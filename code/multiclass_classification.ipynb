{
 "cells": [
  {
   "cell_type": "markdown",
   "metadata": {},
   "source": [
    "# Ghouls, Goblins, and Ghosts\n",
    "## Multiclass Classification Task\n",
    "\n",
    "Falconi Nicasio\n",
    "\n",
    "April 23 2019"
   ]
  },
  {
   "cell_type": "code",
   "execution_count": 1,
   "metadata": {},
   "outputs": [],
   "source": [
    "# load data\n",
    "import pandas as pd\n",
    "train_data = pd.read_csv(\"../data/train.csv\")\n",
    "test_data = pd.read_csv(\"../data/test.csv\")"
   ]
  },
  {
   "cell_type": "code",
   "execution_count": 2,
   "metadata": {},
   "outputs": [],
   "source": [
    "from sklearn.preprocessing import LabelEncoder\n",
    "\n",
    "# encode color feature\n",
    "gle = LabelEncoder()\n",
    "train_color_labels = gle.fit_transform(train_data['color'])\n",
    "test_color_labels = gle.fit_transform(test_data['color'])\n",
    "train_data['color_labels'] = train_color_labels\n",
    "test_data['color_labels'] = test_color_labels"
   ]
  },
  {
   "cell_type": "code",
   "execution_count": 3,
   "metadata": {},
   "outputs": [],
   "source": [
    "# take target out of training set\n",
    "Y = train_data['type']\n",
    "train_data = train_data.drop(['type', 'id', 'color'], axis=1)\n",
    "test_data = test_data.drop(['id', 'color'], axis=1)"
   ]
  },
  {
   "cell_type": "code",
   "execution_count": 4,
   "metadata": {},
   "outputs": [
    {
     "data": {
      "text/html": [
       "<div>\n",
       "<style scoped>\n",
       "    .dataframe tbody tr th:only-of-type {\n",
       "        vertical-align: middle;\n",
       "    }\n",
       "\n",
       "    .dataframe tbody tr th {\n",
       "        vertical-align: top;\n",
       "    }\n",
       "\n",
       "    .dataframe thead th {\n",
       "        text-align: right;\n",
       "    }\n",
       "</style>\n",
       "<table border=\"1\" class=\"dataframe\">\n",
       "  <thead>\n",
       "    <tr style=\"text-align: right;\">\n",
       "      <th></th>\n",
       "      <th>bone_length</th>\n",
       "      <th>rotting_flesh</th>\n",
       "      <th>hair_length</th>\n",
       "      <th>has_soul</th>\n",
       "      <th>color_labels</th>\n",
       "    </tr>\n",
       "  </thead>\n",
       "  <tbody>\n",
       "    <tr>\n",
       "      <th>count</th>\n",
       "      <td>371.000000</td>\n",
       "      <td>371.000000</td>\n",
       "      <td>371.000000</td>\n",
       "      <td>371.000000</td>\n",
       "      <td>371.000000</td>\n",
       "    </tr>\n",
       "    <tr>\n",
       "      <th>mean</th>\n",
       "      <td>0.434160</td>\n",
       "      <td>0.506848</td>\n",
       "      <td>0.529114</td>\n",
       "      <td>0.471392</td>\n",
       "      <td>3.404313</td>\n",
       "    </tr>\n",
       "    <tr>\n",
       "      <th>std</th>\n",
       "      <td>0.132833</td>\n",
       "      <td>0.146358</td>\n",
       "      <td>0.169902</td>\n",
       "      <td>0.176129</td>\n",
       "      <td>1.615259</td>\n",
       "    </tr>\n",
       "    <tr>\n",
       "      <th>min</th>\n",
       "      <td>0.061032</td>\n",
       "      <td>0.095687</td>\n",
       "      <td>0.134600</td>\n",
       "      <td>0.009402</td>\n",
       "      <td>0.000000</td>\n",
       "    </tr>\n",
       "    <tr>\n",
       "      <th>25%</th>\n",
       "      <td>0.340006</td>\n",
       "      <td>0.414812</td>\n",
       "      <td>0.407428</td>\n",
       "      <td>0.348002</td>\n",
       "      <td>3.000000</td>\n",
       "    </tr>\n",
       "    <tr>\n",
       "      <th>50%</th>\n",
       "      <td>0.434891</td>\n",
       "      <td>0.501552</td>\n",
       "      <td>0.538642</td>\n",
       "      <td>0.466372</td>\n",
       "      <td>3.000000</td>\n",
       "    </tr>\n",
       "    <tr>\n",
       "      <th>75%</th>\n",
       "      <td>0.517223</td>\n",
       "      <td>0.603977</td>\n",
       "      <td>0.647244</td>\n",
       "      <td>0.600610</td>\n",
       "      <td>5.000000</td>\n",
       "    </tr>\n",
       "    <tr>\n",
       "      <th>max</th>\n",
       "      <td>0.817001</td>\n",
       "      <td>0.932466</td>\n",
       "      <td>1.000000</td>\n",
       "      <td>0.935721</td>\n",
       "      <td>5.000000</td>\n",
       "    </tr>\n",
       "  </tbody>\n",
       "</table>\n",
       "</div>"
      ],
      "text/plain": [
       "       bone_length  rotting_flesh  hair_length    has_soul  color_labels\n",
       "count   371.000000     371.000000   371.000000  371.000000    371.000000\n",
       "mean      0.434160       0.506848     0.529114    0.471392      3.404313\n",
       "std       0.132833       0.146358     0.169902    0.176129      1.615259\n",
       "min       0.061032       0.095687     0.134600    0.009402      0.000000\n",
       "25%       0.340006       0.414812     0.407428    0.348002      3.000000\n",
       "50%       0.434891       0.501552     0.538642    0.466372      3.000000\n",
       "75%       0.517223       0.603977     0.647244    0.600610      5.000000\n",
       "max       0.817001       0.932466     1.000000    0.935721      5.000000"
      ]
     },
     "execution_count": 4,
     "metadata": {},
     "output_type": "execute_result"
    }
   ],
   "source": [
    "train_data.describe()"
   ]
  },
  {
   "cell_type": "code",
   "execution_count": 5,
   "metadata": {},
   "outputs": [
    {
     "data": {
      "text/html": [
       "<div>\n",
       "<style scoped>\n",
       "    .dataframe tbody tr th:only-of-type {\n",
       "        vertical-align: middle;\n",
       "    }\n",
       "\n",
       "    .dataframe tbody tr th {\n",
       "        vertical-align: top;\n",
       "    }\n",
       "\n",
       "    .dataframe thead th {\n",
       "        text-align: right;\n",
       "    }\n",
       "</style>\n",
       "<table border=\"1\" class=\"dataframe\">\n",
       "  <thead>\n",
       "    <tr style=\"text-align: right;\">\n",
       "      <th></th>\n",
       "      <th>bone_length</th>\n",
       "      <th>rotting_flesh</th>\n",
       "      <th>hair_length</th>\n",
       "      <th>has_soul</th>\n",
       "      <th>color_labels</th>\n",
       "    </tr>\n",
       "  </thead>\n",
       "  <tbody>\n",
       "    <tr>\n",
       "      <th>bone_length</th>\n",
       "      <td>1.000000</td>\n",
       "      <td>-0.041716</td>\n",
       "      <td>0.353881</td>\n",
       "      <td>0.381675</td>\n",
       "      <td>-0.033830</td>\n",
       "    </tr>\n",
       "    <tr>\n",
       "      <th>rotting_flesh</th>\n",
       "      <td>-0.041716</td>\n",
       "      <td>1.000000</td>\n",
       "      <td>-0.220353</td>\n",
       "      <td>-0.132051</td>\n",
       "      <td>-0.041714</td>\n",
       "    </tr>\n",
       "    <tr>\n",
       "      <th>hair_length</th>\n",
       "      <td>0.353881</td>\n",
       "      <td>-0.220353</td>\n",
       "      <td>1.000000</td>\n",
       "      <td>0.474835</td>\n",
       "      <td>0.009093</td>\n",
       "    </tr>\n",
       "    <tr>\n",
       "      <th>has_soul</th>\n",
       "      <td>0.381675</td>\n",
       "      <td>-0.132051</td>\n",
       "      <td>0.474835</td>\n",
       "      <td>1.000000</td>\n",
       "      <td>-0.025546</td>\n",
       "    </tr>\n",
       "    <tr>\n",
       "      <th>color_labels</th>\n",
       "      <td>-0.033830</td>\n",
       "      <td>-0.041714</td>\n",
       "      <td>0.009093</td>\n",
       "      <td>-0.025546</td>\n",
       "      <td>1.000000</td>\n",
       "    </tr>\n",
       "  </tbody>\n",
       "</table>\n",
       "</div>"
      ],
      "text/plain": [
       "               bone_length  rotting_flesh  hair_length  has_soul  color_labels\n",
       "bone_length       1.000000      -0.041716     0.353881  0.381675     -0.033830\n",
       "rotting_flesh    -0.041716       1.000000    -0.220353 -0.132051     -0.041714\n",
       "hair_length       0.353881      -0.220353     1.000000  0.474835      0.009093\n",
       "has_soul          0.381675      -0.132051     0.474835  1.000000     -0.025546\n",
       "color_labels     -0.033830      -0.041714     0.009093 -0.025546      1.000000"
      ]
     },
     "execution_count": 5,
     "metadata": {},
     "output_type": "execute_result"
    }
   ],
   "source": [
    "train_data.corr()"
   ]
  },
  {
   "cell_type": "code",
   "execution_count": 6,
   "metadata": {},
   "outputs": [],
   "source": [
    "#standardize values\n",
    "train_data = (train_data - train_data.mean()) / train_data.std()\n",
    "test_data = (test_data - test_data.mean()) / test_data.std()"
   ]
  },
  {
   "cell_type": "markdown",
   "metadata": {},
   "source": [
    "Cross validate paramaters for One vs Rest and One vs One"
   ]
  },
  {
   "cell_type": "code",
   "execution_count": 7,
   "metadata": {},
   "outputs": [
    {
     "name": "stdout",
     "output_type": "stream",
     "text": [
      "0.738544474393531\n",
      "{'estimator__C': 0.1, 'estimator__multi_class': 'ovr', 'estimator__solver': 'newton-cg'}\n"
     ]
    }
   ],
   "source": [
    "from sklearn.multiclass import OneVsRestClassifier\n",
    "from sklearn.linear_model import LogisticRegression\n",
    "from sklearn.model_selection import GridSearchCV\n",
    "\n",
    "model_to_set = OneVsRestClassifier(LogisticRegression(penalty = 'l2', max_iter = 1000))\n",
    "\n",
    "parameters = {\n",
    "    \"estimator__C\": [0.1, 0.5, 0.7, 1.0, 1.2, 2, 5, 10, 20, 100],\n",
    "    \"estimator__solver\": ['newton-cg', 'lbfgs', 'sag'],\n",
    "    \"estimator__multi_class\" : ['multinomial', 'ovr']\n",
    "}\n",
    "\n",
    "model_tunning = GridSearchCV(model_to_set, param_grid=parameters,\n",
    "                             cv = 2)\n",
    "\n",
    "model_tunning.fit(train_data, Y)\n",
    "\n",
    "print(model_tunning.best_score_)\n",
    "print(model_tunning.best_params_)"
   ]
  },
  {
   "cell_type": "code",
   "execution_count": 10,
   "metadata": {},
   "outputs": [],
   "source": [
    "ovr = OneVsRestClassifier(LogisticRegression(penalty = \"l2\", C = 0.1, multi_class = 'ovr', solver = 'newton-cg'))\n",
    "ovr_fitted = ovr.fit(train_data, Y)\n",
    "res = ovr_fitted.predict(test_data)"
   ]
  },
  {
   "cell_type": "code",
   "execution_count": 11,
   "metadata": {},
   "outputs": [],
   "source": [
    "# save predictions\n",
    "sample_data = pd.read_csv(\"../data/sample_submission.csv\")\n",
    "sample_data['type'] = res\n",
    "sample_data.to_csv('../prediction.csv', index = False)"
   ]
  }
 ],
 "metadata": {
  "kernelspec": {
   "display_name": "Python 3",
   "language": "python",
   "name": "python3"
  },
  "language_info": {
   "codemirror_mode": {
    "name": "ipython",
    "version": 3
   },
   "file_extension": ".py",
   "mimetype": "text/x-python",
   "name": "python",
   "nbconvert_exporter": "python",
   "pygments_lexer": "ipython3",
   "version": "3.6.8"
  }
 },
 "nbformat": 4,
 "nbformat_minor": 2
}
