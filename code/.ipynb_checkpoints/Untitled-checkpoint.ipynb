{
 "cells": [
  {
   "cell_type": "code",
   "execution_count": 1,
   "metadata": {},
   "outputs": [],
   "source": [
    "# load data\n",
    "import pandas as pd\n",
    "train_data = pd.read_csv(\"../data/train.csv\")\n",
    "test_data = pd.read_csv(\"../data/test.csv\")"
   ]
  },
  {
   "cell_type": "code",
   "execution_count": 2,
   "metadata": {},
   "outputs": [],
   "source": [
    "# take target out of training set\n",
    "Y = train_data['type']\n",
    "train_data = train_data.drop(['type', 'id', 'color'], axis=1)\n",
    "test_data = test_data.drop(['id', 'color'], axis=1)"
   ]
  },
  {
   "cell_type": "code",
   "execution_count": 3,
   "metadata": {},
   "outputs": [],
   "source": [
    "#standardize values\n",
    "train_data = (train_data - train_data.mean()) / train_data.std()\n",
    "test_data = (test_data - test_data.mean()) / test_data.std()"
   ]
  },
  {
   "cell_type": "code",
   "execution_count": 9,
   "metadata": {},
   "outputs": [
    {
     "name": "stdout",
     "output_type": "stream",
     "text": [
      "One vs Rest\n",
      "     parameter     score\n",
      "19  [100, l2]  0.741136\n",
      "18  [100, l1]  0.741136\n",
      "17   [20, l2]  0.738418\n",
      "16   [20, l1]  0.738418\n",
      "15   [10, l2]  0.738418\n",
      "14   [10, l1]  0.738418\n",
      "13    [5, l2]  0.738418\n",
      "12    [5, l1]  0.738418\n",
      "6   [1.0, l1]  0.735657\n",
      "11    [2, l2]  0.732984\n",
      "10    [2, l1]  0.732984\n",
      "9   [1.2, l2]  0.732984\n",
      "8   [1.2, l1]  0.732984\n",
      "7   [1.0, l2]  0.730310\n",
      "4   [0.7, l1]  0.730310\n",
      "3   [0.5, l2]  0.730310\n",
      "5   [0.7, l2]  0.727592\n",
      "2   [0.5, l1]  0.727592\n",
      "1   [0.1, l2]  0.716941\n",
      "0   [0.1, l1]  0.711462\n",
      "One vs One\n",
      "    parameter2     score\n",
      "7   [1.0, l2]  0.759983\n",
      "1   [0.1, l2]  0.757309\n",
      "9   [1.2, l2]  0.757266\n",
      "5   [0.7, l2]  0.754636\n",
      "11    [2, l2]  0.754592\n",
      "3   [0.5, l2]  0.751962\n",
      "10    [2, l1]  0.751918\n",
      "6   [1.0, l1]  0.751918\n",
      "13    [5, l2]  0.751918\n",
      "15   [10, l2]  0.749244\n",
      "8   [1.2, l1]  0.749201\n",
      "18  [100, l1]  0.746571\n",
      "17   [20, l2]  0.746571\n",
      "16   [20, l1]  0.746571\n",
      "19  [100, l2]  0.746571\n",
      "14   [10, l1]  0.746571\n",
      "12    [5, l1]  0.746571\n",
      "4   [0.7, l1]  0.746571\n",
      "2   [0.5, l1]  0.743940\n",
      "0   [0.1, l1]  0.665703\n"
     ]
    }
   ],
   "source": [
    "from sklearn import linear_model\n",
    "from sklearn.multiclass import OneVsRestClassifier\n",
    "from sklearn.multiclass import OneVsOneClassifier\n",
    "from sklearn.model_selection import cross_validate\n",
    "from sklearn.model_selection import cross_val_score\n",
    "\n",
    "alphas = [0.1, 0.5, 0.7, 1.0, 1.2, 2, 5, 10, 20, 100]\n",
    "regs = [\"l1\", \"l2\"]\n",
    "#scores and param for OneVsRest\n",
    "scores = []\n",
    "param = []\n",
    "#scores and param for OneVsOne\n",
    "scores2 = []\n",
    "param2 = []\n",
    "for alpha in alphas:\n",
    "    for reg in regs:\n",
    "        #tuning for OneVsRest\n",
    "        lm = OneVsRestClassifier(linear_model.LogisticRegression(penalty = reg, C = alpha, solver = 'liblinear'))\n",
    "        scores.append(cross_val_score(lm, train_data, Y, scoring=\"accuracy\", cv = 2).mean())\n",
    "        param.append([alpha, reg])\n",
    "        #tuning for OneVsOne\n",
    "        lm2 = OneVsOneClassifier(linear_model.LogisticRegression(penalty = reg, C = alpha, solver = 'liblinear'))\n",
    "        scores2.append(cross_val_score(lm2, train_data, Y, scoring=\"accuracy\", cv = 2).mean())\n",
    "        param2.append([alpha, reg])\n",
    "OvRscores = pd.DataFrame({'parameter': param, 'score': scores})\n",
    "OvOscores = pd.DataFrame({'parameter2': param2, 'score':scores2})\n",
    "\n",
    "print('One vs Rest\\n', OvRscores.sort_values(by = 'score', ascending = False))\n",
    "print('One vs One\\n', OvOscores.sort_values(by = 'score', ascending = False))"
   ]
  },
  {
   "cell_type": "code",
   "execution_count": 10,
   "metadata": {},
   "outputs": [],
   "source": [
    "ovr = OneVsRestClassifier(linear_model.LogisticRegression(penalty = \"l2\", C = 100, solver = 'liblinear'))\n",
    "ovr_fitted = ovr.fit(train_data, Y)\n",
    "res1 = ovr_fitted.predict(test_data)"
   ]
  },
  {
   "cell_type": "code",
   "execution_count": 12,
   "metadata": {},
   "outputs": [],
   "source": [
    "ovo = OneVsOneClassifier(linear_model.LogisticRegression(penalty = \"l2\", C = 1, solver = 'liblinear'))\n",
    "ovo_fitted = ovo.fit(train_data, Y)\n",
    "res2 = ovo_fitted.predict(test_data)"
   ]
  },
  {
   "cell_type": "code",
   "execution_count": 27,
   "metadata": {},
   "outputs": [
    {
     "name": "stdout",
     "output_type": "stream",
     "text": [
      "processed... K: 1\n",
      "processed... n: 1\n",
      "processed... n: 3\n",
      "processed... n: 7\n",
      "processed... n: 10\n",
      "processed... K: 2\n",
      "processed... n: 1\n",
      "processed... n: 3\n",
      "processed... n: 7\n",
      "processed... n: 10\n",
      "processed... K: 3\n",
      "processed... n: 1\n",
      "processed... n: 3\n",
      "processed... n: 7\n",
      "processed... n: 10\n",
      "   parameter     score\n",
      "2     [7, 1]  0.733034\n",
      "6     [7, 2]  0.733034\n",
      "10    [7, 3]  0.733034\n",
      "3    [10, 1]  0.723648\n",
      "7    [10, 2]  0.723648\n",
      "11   [10, 3]  0.723648\n",
      "1     [3, 1]  0.692203\n",
      "5     [3, 2]  0.692203\n",
      "9     [3, 3]  0.692203\n",
      "0     [1, 1]  0.654767\n",
      "4     [1, 2]  0.654767\n",
      "8     [1, 3]  0.654767\n"
     ]
    }
   ],
   "source": [
    "# cross validation for PCA KNN\n",
    "from sklearn.decomposition import PCA\n",
    "from sklearn.neighbors import KNeighborsClassifier\n",
    "\n",
    "neigh = [1, 3, 7, 10]\n",
    "Ks = [1, 2, 3]\n",
    "scores = []\n",
    "param = []\n",
    "for K in Ks: \n",
    "    pca = PCA(n_components = K, svd_solver='arpack')\n",
    "    pca.fit(train_data)\n",
    "    pca_train = pca.transform(train_data)\n",
    "    print(\"processed... K:\", K)\n",
    "    for n in neigh:\n",
    "        knn = KNeighborsClassifier(n_neighbors = n)\n",
    "        scores.append(cross_val_score(knn, train_data, Y, scoring=\"accuracy\", cv = 10).mean())\n",
    "        param.append([n, K])\n",
    "        print(\"processed... n:\", n)\n",
    "scores = pd.DataFrame({'parameter': param, 'score': scores})\n",
    "print(scores.sort_values(by = 'score', ascending = False))"
   ]
  },
  {
   "cell_type": "code",
   "execution_count": 28,
   "metadata": {},
   "outputs": [],
   "source": [
    "pca = PCA(n_components = 1, svd_solver='arpack')\n",
    "pca.fit(train_data)\n",
    "pca_train = pca.transform(train_data)\n",
    "pca_test = pca.transform(test_data)\n",
    "knn = KNeighborsClassifier(n_neighbors = 7)\n",
    "knn.fit(pca_train, Y)\n",
    "res3 = knn.predict(pca_test)"
   ]
  },
  {
   "cell_type": "code",
   "execution_count": 23,
   "metadata": {},
   "outputs": [],
   "source": [
    "import math\n",
    "\n",
    "# RBF function\n",
    "def rbf(data, centers, sigma):\n",
    "    res = np.ndarray(shape = (len(data), len(centers)))\n",
    "    i = 0\n",
    "    for row in data:\n",
    "        tmp = []\n",
    "        for center in centers:\n",
    "            tmp.append(math.exp(-1.0 * sum(np.square(row - center)) / (2 * sigma * sigma)))\n",
    "        res[i, :] = tmp\n",
    "        i = i + 1\n",
    "    return res\n",
    "# select k centers from data\n",
    "def selectCenters(data, k):\n",
    "    tmp = np.random.choice(len(data), k)\n",
    "    return data[tmp,:]"
   ]
  },
  {
   "cell_type": "code",
   "execution_count": 25,
   "metadata": {},
   "outputs": [
    {
     "name": "stderr",
     "output_type": "stream",
     "text": [
      "C:\\Anaconda\\lib\\site-packages\\ipykernel_launcher.py:11: FutureWarning: Method .as_matrix will be removed in a future version. Use .values instead.\n",
      "  # This is added back by InteractiveShellApp.init_path()\n",
      "C:\\Anaconda\\lib\\site-packages\\ipykernel_launcher.py:14: FutureWarning: Method .as_matrix will be removed in a future version. Use .values instead.\n",
      "  \n"
     ]
    },
    {
     "name": "stdout",
     "output_type": "stream",
     "text": [
      "processed... k: 100\n",
      "processed... sigma: 1.0\n",
      "processed... n: 1\n",
      "processed... n: 10\n",
      "processed... n: 20\n"
     ]
    },
    {
     "name": "stderr",
     "output_type": "stream",
     "text": [
      "C:\\Anaconda\\lib\\site-packages\\ipykernel_launcher.py:14: FutureWarning: Method .as_matrix will be removed in a future version. Use .values instead.\n",
      "  \n"
     ]
    },
    {
     "name": "stdout",
     "output_type": "stream",
     "text": [
      "processed... sigma: 2.0\n",
      "processed... n: 1\n",
      "processed... n: 10\n",
      "processed... n: 20\n"
     ]
    },
    {
     "name": "stderr",
     "output_type": "stream",
     "text": [
      "C:\\Anaconda\\lib\\site-packages\\ipykernel_launcher.py:14: FutureWarning: Method .as_matrix will be removed in a future version. Use .values instead.\n",
      "  \n"
     ]
    },
    {
     "name": "stdout",
     "output_type": "stream",
     "text": [
      "processed... sigma: 4.0\n",
      "processed... n: 1\n",
      "processed... n: 10\n",
      "processed... n: 20\n"
     ]
    },
    {
     "name": "stderr",
     "output_type": "stream",
     "text": [
      "C:\\Anaconda\\lib\\site-packages\\ipykernel_launcher.py:11: FutureWarning: Method .as_matrix will be removed in a future version. Use .values instead.\n",
      "  # This is added back by InteractiveShellApp.init_path()\n",
      "C:\\Anaconda\\lib\\site-packages\\ipykernel_launcher.py:14: FutureWarning: Method .as_matrix will be removed in a future version. Use .values instead.\n",
      "  \n"
     ]
    },
    {
     "name": "stdout",
     "output_type": "stream",
     "text": [
      "processed... k: 400\n",
      "processed... sigma: 1.0\n",
      "processed... n: 1\n",
      "processed... n: 10\n",
      "processed... n: 20\n"
     ]
    },
    {
     "name": "stderr",
     "output_type": "stream",
     "text": [
      "C:\\Anaconda\\lib\\site-packages\\ipykernel_launcher.py:14: FutureWarning: Method .as_matrix will be removed in a future version. Use .values instead.\n",
      "  \n"
     ]
    },
    {
     "name": "stdout",
     "output_type": "stream",
     "text": [
      "processed... sigma: 2.0\n",
      "processed... n: 1\n",
      "processed... n: 10\n",
      "processed... n: 20\n"
     ]
    },
    {
     "name": "stderr",
     "output_type": "stream",
     "text": [
      "C:\\Anaconda\\lib\\site-packages\\ipykernel_launcher.py:14: FutureWarning: Method .as_matrix will be removed in a future version. Use .values instead.\n",
      "  \n"
     ]
    },
    {
     "name": "stdout",
     "output_type": "stream",
     "text": [
      "processed... sigma: 4.0\n",
      "processed... n: 1\n",
      "processed... n: 10\n",
      "processed... n: 20\n",
      "processed... k: 800\n"
     ]
    },
    {
     "name": "stderr",
     "output_type": "stream",
     "text": [
      "C:\\Anaconda\\lib\\site-packages\\ipykernel_launcher.py:11: FutureWarning: Method .as_matrix will be removed in a future version. Use .values instead.\n",
      "  # This is added back by InteractiveShellApp.init_path()\n",
      "C:\\Anaconda\\lib\\site-packages\\ipykernel_launcher.py:14: FutureWarning: Method .as_matrix will be removed in a future version. Use .values instead.\n",
      "  \n"
     ]
    },
    {
     "name": "stdout",
     "output_type": "stream",
     "text": [
      "processed... sigma: 1.0\n",
      "processed... n: 1\n",
      "processed... n: 10\n",
      "processed... n: 20\n"
     ]
    },
    {
     "name": "stderr",
     "output_type": "stream",
     "text": [
      "C:\\Anaconda\\lib\\site-packages\\ipykernel_launcher.py:14: FutureWarning: Method .as_matrix will be removed in a future version. Use .values instead.\n",
      "  \n"
     ]
    },
    {
     "name": "stdout",
     "output_type": "stream",
     "text": [
      "processed... sigma: 2.0\n",
      "processed... n: 1\n",
      "processed... n: 10\n",
      "processed... n: 20\n"
     ]
    },
    {
     "name": "stderr",
     "output_type": "stream",
     "text": [
      "C:\\Anaconda\\lib\\site-packages\\ipykernel_launcher.py:14: FutureWarning: Method .as_matrix will be removed in a future version. Use .values instead.\n",
      "  \n"
     ]
    },
    {
     "name": "stdout",
     "output_type": "stream",
     "text": [
      "processed... sigma: 4.0\n",
      "processed... n: 1\n",
      "processed... n: 10\n",
      "processed... n: 20\n",
      "processed... k: 1600\n"
     ]
    },
    {
     "name": "stderr",
     "output_type": "stream",
     "text": [
      "C:\\Anaconda\\lib\\site-packages\\ipykernel_launcher.py:11: FutureWarning: Method .as_matrix will be removed in a future version. Use .values instead.\n",
      "  # This is added back by InteractiveShellApp.init_path()\n",
      "C:\\Anaconda\\lib\\site-packages\\ipykernel_launcher.py:14: FutureWarning: Method .as_matrix will be removed in a future version. Use .values instead.\n",
      "  \n"
     ]
    },
    {
     "name": "stdout",
     "output_type": "stream",
     "text": [
      "processed... sigma: 1.0\n",
      "processed... n: 1\n",
      "processed... n: 10\n",
      "processed... n: 20\n"
     ]
    },
    {
     "name": "stderr",
     "output_type": "stream",
     "text": [
      "C:\\Anaconda\\lib\\site-packages\\ipykernel_launcher.py:14: FutureWarning: Method .as_matrix will be removed in a future version. Use .values instead.\n",
      "  \n"
     ]
    },
    {
     "name": "stdout",
     "output_type": "stream",
     "text": [
      "processed... sigma: 2.0\n",
      "processed... n: 1\n",
      "processed... n: 10\n",
      "processed... n: 20\n"
     ]
    },
    {
     "name": "stderr",
     "output_type": "stream",
     "text": [
      "C:\\Anaconda\\lib\\site-packages\\ipykernel_launcher.py:14: FutureWarning: Method .as_matrix will be removed in a future version. Use .values instead.\n",
      "  \n"
     ]
    },
    {
     "name": "stdout",
     "output_type": "stream",
     "text": [
      "processed... sigma: 4.0\n",
      "processed... n: 1\n",
      "processed... n: 10\n",
      "processed... n: 20\n",
      "          parameter     score\n",
      "13   [10, 2.0, 400]  0.723648\n",
      "16   [10, 4.0, 400]  0.723648\n",
      "25   [10, 4.0, 800]  0.723648\n",
      "34  [10, 4.0, 1600]  0.723648\n",
      "4    [10, 2.0, 100]  0.723648\n",
      "28  [10, 1.0, 1600]  0.723648\n",
      "7    [10, 4.0, 100]  0.723648\n",
      "22   [10, 2.0, 800]  0.723648\n",
      "10   [10, 1.0, 400]  0.723648\n",
      "31  [10, 2.0, 1600]  0.723648\n",
      "19   [10, 1.0, 800]  0.723648\n",
      "1    [10, 1.0, 100]  0.723648\n",
      "23   [20, 2.0, 800]  0.713640\n",
      "29  [20, 1.0, 1600]  0.713640\n",
      "20   [20, 1.0, 800]  0.713640\n",
      "17   [20, 4.0, 400]  0.713640\n",
      "35  [20, 4.0, 1600]  0.713640\n",
      "14   [20, 2.0, 400]  0.713640\n",
      "11   [20, 1.0, 400]  0.713640\n",
      "32  [20, 2.0, 1600]  0.713640\n",
      "8    [20, 4.0, 100]  0.713640\n",
      "5    [20, 2.0, 100]  0.713640\n",
      "2    [20, 1.0, 100]  0.713640\n",
      "26   [20, 4.0, 800]  0.713640\n",
      "30   [1, 2.0, 1600]  0.654767\n",
      "27   [1, 1.0, 1600]  0.654767\n",
      "33   [1, 4.0, 1600]  0.654767\n",
      "0     [1, 1.0, 100]  0.654767\n",
      "24    [1, 4.0, 800]  0.654767\n",
      "21    [1, 2.0, 800]  0.654767\n",
      "15    [1, 4.0, 400]  0.654767\n",
      "12    [1, 2.0, 400]  0.654767\n",
      "9     [1, 1.0, 400]  0.654767\n",
      "6     [1, 4.0, 100]  0.654767\n",
      "3     [1, 2.0, 100]  0.654767\n",
      "18    [1, 1.0, 800]  0.654767\n"
     ]
    }
   ],
   "source": [
    "# cross validation on RBF KNN\n",
    "import numpy as np\n",
    "from sklearn.neighbors import KNeighborsClassifier\n",
    "\n",
    "neigh = [1, 10, 20]\n",
    "sigmas = [1.0, 2.0, 4.0]\n",
    "Ks = [100, 400, 800, 1600]\n",
    "scores = []\n",
    "param = []\n",
    "for K in Ks:\n",
    "    centers = selectCenters(train_data.as_matrix(), K)\n",
    "    print(\"processed... k:\", K)\n",
    "    for sigma in sigmas:\n",
    "        rbfX = rbf(train_data.as_matrix(), centers, sigma)\n",
    "        print(\"processed... sigma:\", sigma)\n",
    "        for n in neigh:\n",
    "            knn = KNeighborsClassifier(n_neighbors = n)\n",
    "            scores.append(cross_val_score(knn, train_data, Y, scoring=\"accuracy\", cv = 10).mean())\n",
    "            param.append([n, sigma, K])\n",
    "            print(\"processed... n:\", n)\n",
    "scores = pd.DataFrame({'parameter': param, 'score': scores})\n",
    "print(scores.sort_values(by = 'score', ascending = False))"
   ]
  },
  {
   "cell_type": "code",
   "execution_count": 30,
   "metadata": {},
   "outputs": [
    {
     "name": "stderr",
     "output_type": "stream",
     "text": [
      "C:\\Anaconda\\lib\\site-packages\\ipykernel_launcher.py:1: FutureWarning: Method .as_matrix will be removed in a future version. Use .values instead.\n",
      "  \"\"\"Entry point for launching an IPython kernel.\n",
      "C:\\Anaconda\\lib\\site-packages\\ipykernel_launcher.py:2: FutureWarning: Method .as_matrix will be removed in a future version. Use .values instead.\n",
      "  \n",
      "C:\\Anaconda\\lib\\site-packages\\ipykernel_launcher.py:3: FutureWarning: Method .as_matrix will be removed in a future version. Use .values instead.\n",
      "  This is separate from the ipykernel package so we can avoid doing imports until\n"
     ]
    }
   ],
   "source": [
    "centers = selectCenters(train_data.as_matrix(), 400)\n",
    "rbfX = rbf(train_data.as_matrix(), centers, 2.0)\n",
    "rbfTest = rbf(test_data.as_matrix(), centers, 2.0)\n",
    "knn = KNeighborsClassifier(n_neighbors = 10)\n",
    "knn.fit(rbfX, Y)\n",
    "res4 = knn.predict(rbfTest)"
   ]
  },
  {
   "cell_type": "code",
   "execution_count": 31,
   "metadata": {},
   "outputs": [],
   "source": [
    "# save predictions\n",
    "sample_data = pd.read_csv(\"../data/sample_submission.csv\")\n",
    "sample_data['type'] = res4\n",
    "sample_data.to_csv('../prediction4.csv', index = False)"
   ]
  }
 ],
 "metadata": {
  "kernelspec": {
   "display_name": "Python 3",
   "language": "python",
   "name": "python3"
  },
  "language_info": {
   "codemirror_mode": {
    "name": "ipython",
    "version": 3
   },
   "file_extension": ".py",
   "mimetype": "text/x-python",
   "name": "python",
   "nbconvert_exporter": "python",
   "pygments_lexer": "ipython3",
   "version": "3.6.8"
  }
 },
 "nbformat": 4,
 "nbformat_minor": 2
}
